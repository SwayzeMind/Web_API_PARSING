{
 "cells": [
  {
   "cell_type": "markdown",
   "metadata": {},
   "source": [
    "# Lesson 03\n",
    "## Парсинг HTML. BeautifulSoup, MongoDB"
   ]
  },
  {
   "cell_type": "markdown",
   "metadata": {},
   "source": [
    "## 1)Развернуть у себя на компьютере/виртуальной машине/хостинге MongoDB и реализовать функцию, записывающую собранные вакансии в созданную БД"
   ]
  },
  {
   "cell_type": "code",
   "execution_count": 1,
   "metadata": {},
   "outputs": [],
   "source": [
    "from bs4 import BeautifulSoup as bs\n",
    "import requests\n",
    "import re\n",
    "import pandas as pd"
   ]
  },
  {
   "cell_type": "code",
   "execution_count": 2,
   "metadata": {},
   "outputs": [],
   "source": [
    "def parsing_hh(vacancy):\n",
    "\n",
    "    vacancy_date = []\n",
    "    \n",
    "    params = {\n",
    "        'text': vacancy, \\\n",
    "        'search_field': 'name', \\\n",
    "        'items_on_page': '100', \\\n",
    "        'page': ''\n",
    "    }\n",
    "    \n",
    "    headers = {\n",
    "        'User-Agent': 'Mozilla/5.0 (X11; Linux x86_64; rv:69.0) Gecko/20100101 Firefox/69.0'\n",
    "    }\n",
    "\n",
    "    link = 'https://hh.ru/search/vacancy'\n",
    "       \n",
    "    html = requests.get(link, params=params, headers=headers)\n",
    "    \n",
    "    if html.ok:\n",
    "        parsed_html = bs(html.text,'html.parser')\n",
    "        \n",
    "        page_block = parsed_html.find('div', {'data-qa': 'pager-block'})\n",
    "        if not page_block:\n",
    "            last_page = '1'\n",
    "        else:\n",
    "            last_page = int(page_block.find_all('a', {'class': 'HH-Pager-Control'})[-2].getText())\n",
    "    \n",
    "    for page in range(0, last_page):\n",
    "        params['page'] = page\n",
    "        html = requests.get(link, params=params, headers=headers)\n",
    "        \n",
    "        if html.ok:\n",
    "            parsed_html = bs(html.text,'html.parser')\n",
    "            \n",
    "            vacancy_items = parsed_html.find('div', {'data-qa': 'vacancy-serp__results'}) \\\n",
    "                                        .find_all('div', {'class': 'vacancy-serp-item'})\n",
    "                \n",
    "            for item in vacancy_items:\n",
    "                vacancy_date.append(item_hh(item))\n",
    "                \n",
    "    return vacancy_date"
   ]
  },
  {
   "cell_type": "code",
   "execution_count": 3,
   "metadata": {},
   "outputs": [],
   "source": [
    "def item_hh(item):\n",
    "\n",
    "    vacancy_date = {}\n",
    "    \n",
    " \n",
    "    vacancy_name = item.find('a', {'class': 'bloko-link HH-LinkModifier'}) \\\n",
    "                        .getText() \\\n",
    "                        .replace(u'\\xa0', u' ')\n",
    "    \n",
    "    vacancy_date['vacancy_name'] = vacancy_name\n",
    "    \n",
    "    \n",
    "    salary = item.find('span', {'data-qa': 'vacancy-serp__vacancy-compensation'})\n",
    "    if not salary:\n",
    "        salary_min = None\n",
    "        salary_max = None\n",
    "        salary_currency = None\n",
    "    else:\n",
    "        salary = salary.getText() \\\n",
    "                        .replace(u'\\xa0', u'')\n",
    "        \n",
    "        salary = re.split(r'\\s|-', salary)\n",
    "        \n",
    "        if salary[0] == 'до':\n",
    "            salary_min = None\n",
    "            salary_max = int(salary[1])\n",
    "        elif salary[0] == 'от':\n",
    "            salary_min = int(salary[1])\n",
    "            salary_max = None\n",
    "        else:\n",
    "            salary_min = int(salary[0])\n",
    "            salary_max = int(salary[1])            \n",
    "        \n",
    "        salary_currency = salary[2]\n",
    "        \n",
    "    vacancy_date['salary_min'] = salary_min\n",
    "    vacancy_date['salary_max'] = salary_max\n",
    "    vacancy_date['salary_currency'] = salary_currency\n",
    "    \n",
    "    \n",
    "    vacancy_link = item.find('a',{'class':'bloko-link HH-LinkModifier'})['href']\n",
    "    \n",
    "    vacancy_date['vacancy_link'] = vacancy_link \n",
    "    \n",
    "\n",
    "    vacancy_date['site'] = 'hh.ru'\n",
    "    \n",
    "    return vacancy_date"
   ]
  },
  {
   "cell_type": "code",
   "execution_count": 4,
   "metadata": {},
   "outputs": [],
   "source": [
    "def parsing_superjob(vacancy):\n",
    "    vacancy_date = []\n",
    "    \n",
    "    params = {\n",
    "        'keywords': vacancy, \\\n",
    "        'profession_only': '1', \\\n",
    "        'geo[c][0]': '15', \\\n",
    "        'geo[c][1]': '1', \\\n",
    "        'geo[c][2]': '9', \\\n",
    "        'page': ''\n",
    "    }\n",
    "    \n",
    "    headers = {\n",
    "        'User-Agent': 'Mozilla/5.0 (X11; Linux x86_64; rv:69.0) Gecko/20100101 Firefox/69.0'\n",
    "    }\n",
    "    \n",
    "    link = 'https://www.superjob.ru/vacancy/search/'\n",
    "       \n",
    "    html = requests.get(link, params=params, headers=headers)\n",
    "    \n",
    "    if html.ok:\n",
    "        parsed_html = bs(html.text,'html.parser')\n",
    "    \n",
    "        page_block = parsed_html.find('a', {'class': 'f-test-button-1'})\n",
    "    if not page_block:\n",
    "        last_page = 1\n",
    "    else:\n",
    "        page_block = page_block.findParent()\n",
    "        last_page = int(page_block.find_all('a')[-2].getText())\n",
    "    \n",
    "    for page in range(0, last_page + 1):\n",
    "        params['page'] = page\n",
    "        html = requests.get(link, params=params, headers=headers)\n",
    "        \n",
    "        if html.ok:\n",
    "            parsed_html = bs(html.text,'html.parser')\n",
    "            vacancy_items = parsed_html.find_all('div', {'class': 'f-test-vacancy-item'})\n",
    "                        \n",
    "            for item in vacancy_items:\n",
    "                vacancy_date.append(item_superjob(item))\n",
    "                \n",
    "    return vacancy_date"
   ]
  },
  {
   "cell_type": "code",
   "execution_count": 5,
   "metadata": {},
   "outputs": [],
   "source": [
    "def item_superjob(item):\n",
    "\n",
    "    vacancy_date = {}\n",
    "    \n",
    " \n",
    "    vacancy_name = item.find_all('a')\n",
    "    if len(vacancy_name) > 1:\n",
    "        vacancy_name = vacancy_name[-2].getText()\n",
    "    else:\n",
    "        vacancy_name = vacancy_name[0].getText()\n",
    "    vacancy_date['vacancy_name'] = vacancy_name\n",
    "    \n",
    "\n",
    "   \n",
    "\n",
    "    salary = item.find('span', {'class': 'f-test-text-company-item-salary'}) \\\n",
    "                  .findChildren()\n",
    "    if not salary:\n",
    "        salary_min = None\n",
    "        salary_max = None\n",
    "        salary_currency = None\n",
    "    else:\n",
    "        salary_currency = salary[-1].getText()\n",
    "        is_check_sarary = item.find('span', {'class': 'f-test-text-company-item-salary'}) \\\n",
    "                                .getText() \\\n",
    "                                .replace(u'\\xa0', u' ') \\\n",
    "                                .split(' ', 1)[0]\n",
    "        if is_check_sarary == 'до' or len(salary) == 2:\n",
    "            salary_min = None\n",
    "            salary_max = int(salary[0].getText() \\\n",
    "                                        .replace(u'\\xa0', u''))\n",
    "        elif is_check_sarary == 'от':\n",
    "            salary_min = int(salary[0].getText() \\\n",
    "                                         .replace(u'\\xa0', u''))\n",
    "            salary_max = None\n",
    "        else:\n",
    "            salary_min = int(salary[0].getText() \\\n",
    "                                         .replace(u'\\xa0', u''))\n",
    "            salary_max = int(salary[2].getText() \\\n",
    "                                         .replace(u'\\xa0', u''))     \n",
    "            \n",
    "        \n",
    "    vacancy_date['salary_min'] = salary_min\n",
    "    vacancy_date['salary_max'] = salary_max\n",
    "    vacancy_date['salary_currency'] = salary_currency\n",
    "    \n",
    "    \n",
    "\n",
    "    vacancy_link = item.find_all('a')\n",
    "    \n",
    "    if len(vacancy_link) > 1:\n",
    "        vacancy_link = vacancy_link[-2]['href']\n",
    "    else:\n",
    "        vacancy_link = vacancy_link[0]['href']\n",
    "    \n",
    "    vacancy_date['vacancy_link'] = f'https://www.superjob.ru{vacancy_link }'\n",
    "    \n",
    "\n",
    "    vacancy_date['site'] = 'www.superjob.ru'\n",
    "    \n",
    "    return vacancy_date"
   ]
  },
  {
   "cell_type": "code",
   "execution_count": 6,
   "metadata": {},
   "outputs": [],
   "source": [
    "def parsing_vacancy(vacancy):\n",
    "        \n",
    "    vacancy_date = []\n",
    "    vacancy_date.extend(parsing_hh(vacancy))\n",
    "    vacancy_date.extend(parsing_superjob(vacancy))\n",
    "    \n",
    "    df = pd.DataFrame(vacancy_date)\n",
    "\n",
    "    return df"
   ]
  },
  {
   "cell_type": "code",
   "execution_count": 7,
   "metadata": {},
   "outputs": [],
   "source": [
    "vacancy = 'Python'\n",
    "df = parsing_vacancy(vacancy)"
   ]
  },
  {
   "cell_type": "code",
   "execution_count": 8,
   "metadata": {},
   "outputs": [
    {
     "data": {
      "text/html": [
       "<div>\n",
       "<style scoped>\n",
       "    .dataframe tbody tr th:only-of-type {\n",
       "        vertical-align: middle;\n",
       "    }\n",
       "\n",
       "    .dataframe tbody tr th {\n",
       "        vertical-align: top;\n",
       "    }\n",
       "\n",
       "    .dataframe thead th {\n",
       "        text-align: right;\n",
       "    }\n",
       "</style>\n",
       "<table border=\"1\" class=\"dataframe\">\n",
       "  <thead>\n",
       "    <tr style=\"text-align: right;\">\n",
       "      <th></th>\n",
       "      <th>vacancy_name</th>\n",
       "      <th>salary_min</th>\n",
       "      <th>salary_max</th>\n",
       "      <th>salary_currency</th>\n",
       "      <th>vacancy_link</th>\n",
       "      <th>site</th>\n",
       "    </tr>\n",
       "  </thead>\n",
       "  <tbody>\n",
       "    <tr>\n",
       "      <td>0</td>\n",
       "      <td>Python Developer</td>\n",
       "      <td>2500.0</td>\n",
       "      <td>NaN</td>\n",
       "      <td>USD</td>\n",
       "      <td>https://hh.ru/vacancy/35095020?query=Python</td>\n",
       "      <td>hh.ru</td>\n",
       "    </tr>\n",
       "    <tr>\n",
       "      <td>3</td>\n",
       "      <td>Программист Python</td>\n",
       "      <td>95000.0</td>\n",
       "      <td>NaN</td>\n",
       "      <td>руб.</td>\n",
       "      <td>https://hh.ru/vacancy/36293188?query=Python</td>\n",
       "      <td>hh.ru</td>\n",
       "    </tr>\n",
       "    <tr>\n",
       "      <td>4</td>\n",
       "      <td>Python developer</td>\n",
       "      <td>150000.0</td>\n",
       "      <td>200000.0</td>\n",
       "      <td>руб.</td>\n",
       "      <td>https://hh.ru/vacancy/36267290?query=Python</td>\n",
       "      <td>hh.ru</td>\n",
       "    </tr>\n",
       "  </tbody>\n",
       "</table>\n",
       "</div>"
      ],
      "text/plain": [
       "         vacancy_name  salary_min  salary_max salary_currency  \\\n",
       "0    Python Developer      2500.0         NaN             USD   \n",
       "3  Программист Python     95000.0         NaN            руб.   \n",
       "4    Python developer    150000.0    200000.0            руб.   \n",
       "\n",
       "                                  vacancy_link   site  \n",
       "0  https://hh.ru/vacancy/35095020?query=Python  hh.ru  \n",
       "3  https://hh.ru/vacancy/36293188?query=Python  hh.ru  \n",
       "4  https://hh.ru/vacancy/36267290?query=Python  hh.ru  "
      ]
     },
     "execution_count": 8,
     "metadata": {},
     "output_type": "execute_result"
    }
   ],
   "source": [
    "df.loc[(df['site']== 'hh.ru')&(df['salary_min'].notnull()),:].head(3)"
   ]
  },
  {
   "cell_type": "code",
   "execution_count": 146,
   "metadata": {},
   "outputs": [],
   "source": [
    "df.to_csv('homework_3_malik')"
   ]
  },
  {
   "cell_type": "code",
   "execution_count": 147,
   "metadata": {},
   "outputs": [
    {
     "name": "stdout",
     "output_type": "stream",
     "text": [
      "Connected successfully!!!\n"
     ]
    }
   ],
   "source": [
    "import json\n",
    "from pymongo import MongoClient\n",
    "from pprint import pprint\n",
    "\n",
    "vacancy_csv = pd.read_csv('homework_3.csv')\n",
    "vacancy.dropna(inplace=True)\n",
    "\n",
    "\n",
    "try: \n",
    "    client = MongoClient('localhost', 27017)\n",
    "    print(\"Connected successfully!!!\") \n",
    "except:   \n",
    "    print(\"Could not connect to MongoDB\") \n",
    "    \n",
    "db = client['vacancy_HH_SUPERJOB']\n",
    "\n",
    "collection = db['collection']\n"
   ]
  },
  {
   "cell_type": "code",
   "execution_count": 154,
   "metadata": {},
   "outputs": [],
   "source": [
    "json= [{'vacancy_name': a,'salary_min': int(b),'salary_max': int(c), 'vacancy_link': d} for a, b,c,d in zip(vacancy['vacancy_name'], vacancy['salary_min'],vacancy['salary_max'], vacancy['vacancy_link'])]\n",
    "#pprint(json)"
   ]
  },
  {
   "cell_type": "code",
   "execution_count": 149,
   "metadata": {},
   "outputs": [
    {
     "data": {
      "text/plain": [
       "<pymongo.results.InsertManyResult at 0x26763966188>"
      ]
     },
     "execution_count": 149,
     "metadata": {},
     "output_type": "execute_result"
    }
   ],
   "source": [
    "collection.insert_many(json)"
   ]
  },
  {
   "cell_type": "markdown",
   "metadata": {},
   "source": [
    "## КАК из JSON сделать DATAFRAME ?   Как из DATAFRAME сделать Json без ZIP?"
   ]
  },
  {
   "cell_type": "code",
   "execution_count": 150,
   "metadata": {},
   "outputs": [
    {
     "name": "stdout",
     "output_type": "stream",
     "text": [
      "<class 'list'>\n"
     ]
    }
   ],
   "source": [
    "print(type(json))  # \"ЭТО JSON\" ?"
   ]
  },
  {
   "cell_type": "markdown",
   "metadata": {},
   "source": [
    "## 2)Написать функцию, которая производит поиск и выводит на экран вакансии с заработной платой больше введенной суммы"
   ]
  },
  {
   "cell_type": "code",
   "execution_count": 151,
   "metadata": {},
   "outputs": [
    {
     "data": {
      "text/html": [
       "<div>\n",
       "<style scoped>\n",
       "    .dataframe tbody tr th:only-of-type {\n",
       "        vertical-align: middle;\n",
       "    }\n",
       "\n",
       "    .dataframe tbody tr th {\n",
       "        vertical-align: top;\n",
       "    }\n",
       "\n",
       "    .dataframe thead th {\n",
       "        text-align: right;\n",
       "    }\n",
       "</style>\n",
       "<table border=\"1\" class=\"dataframe\">\n",
       "  <thead>\n",
       "    <tr style=\"text-align: right;\">\n",
       "      <th></th>\n",
       "      <th>_id</th>\n",
       "      <th>vacancy_name</th>\n",
       "      <th>salary_min</th>\n",
       "      <th>salary_max</th>\n",
       "      <th>vacancy_link</th>\n",
       "    </tr>\n",
       "  </thead>\n",
       "  <tbody>\n",
       "    <tr>\n",
       "      <td>0</td>\n",
       "      <td>5e723bd6924a242929711865</td>\n",
       "      <td>Software developer Python (Германия)</td>\n",
       "      <td>2500</td>\n",
       "      <td>5000</td>\n",
       "      <td>https://hh.ru/vacancy/36232273?query=Python</td>\n",
       "    </tr>\n",
       "    <tr>\n",
       "      <td>1</td>\n",
       "      <td>5e723bd6924a242929711866</td>\n",
       "      <td>Разработчик Python</td>\n",
       "      <td>70000</td>\n",
       "      <td>110000</td>\n",
       "      <td>https://hh.ru/vacancy/35950905?query=Python</td>\n",
       "    </tr>\n",
       "    <tr>\n",
       "      <td>2</td>\n",
       "      <td>5e723bd6924a242929711867</td>\n",
       "      <td>Разработчик Python</td>\n",
       "      <td>150000</td>\n",
       "      <td>170000</td>\n",
       "      <td>https://hh.ru/vacancy/35590347?query=Python</td>\n",
       "    </tr>\n",
       "    <tr>\n",
       "      <td>3</td>\n",
       "      <td>5e723bd6924a242929711868</td>\n",
       "      <td>Python/Django разработчик (part time)</td>\n",
       "      <td>30000</td>\n",
       "      <td>40000</td>\n",
       "      <td>https://hh.ru/vacancy/36160045?query=Python</td>\n",
       "    </tr>\n",
       "    <tr>\n",
       "      <td>4</td>\n",
       "      <td>5e723bd6924a242929711869</td>\n",
       "      <td>Backend Python Developer</td>\n",
       "      <td>150000</td>\n",
       "      <td>800000</td>\n",
       "      <td>https://hh.ru/vacancy/35913318?query=Python</td>\n",
       "    </tr>\n",
       "    <tr>\n",
       "      <td>...</td>\n",
       "      <td>...</td>\n",
       "      <td>...</td>\n",
       "      <td>...</td>\n",
       "      <td>...</td>\n",
       "      <td>...</td>\n",
       "    </tr>\n",
       "    <tr>\n",
       "      <td>333</td>\n",
       "      <td>5e723cdf924a2429297119bc</td>\n",
       "      <td>Ведущий программист Python</td>\n",
       "      <td>160000</td>\n",
       "      <td>245000</td>\n",
       "      <td>https://hh.ru/vacancy/33757717?query=Python</td>\n",
       "    </tr>\n",
       "    <tr>\n",
       "      <td>334</td>\n",
       "      <td>5e723cdf924a2429297119bd</td>\n",
       "      <td>Ростелеком</td>\n",
       "      <td>150000</td>\n",
       "      <td>300000</td>\n",
       "      <td>https://www.superjob.ru/clients/rostelekom-241...</td>\n",
       "    </tr>\n",
       "    <tr>\n",
       "      <td>335</td>\n",
       "      <td>5e723cdf924a2429297119be</td>\n",
       "      <td>Разработчик Python</td>\n",
       "      <td>170000</td>\n",
       "      <td>200000</td>\n",
       "      <td>https://www.superjob.ru/vakansii/razrabotchik-...</td>\n",
       "    </tr>\n",
       "    <tr>\n",
       "      <td>336</td>\n",
       "      <td>5e723cdf924a2429297119bf</td>\n",
       "      <td>Ведущий разработчик Python</td>\n",
       "      <td>150000</td>\n",
       "      <td>300000</td>\n",
       "      <td>https://www.superjob.ru/vakansii/veduschij-raz...</td>\n",
       "    </tr>\n",
       "    <tr>\n",
       "      <td>337</td>\n",
       "      <td>5e723cdf924a2429297119c0</td>\n",
       "      <td>Разработчик Python</td>\n",
       "      <td>170000</td>\n",
       "      <td>200000</td>\n",
       "      <td>https://www.superjob.ru/vakansii/razrabotchik-...</td>\n",
       "    </tr>\n",
       "  </tbody>\n",
       "</table>\n",
       "<p>338 rows × 5 columns</p>\n",
       "</div>"
      ],
      "text/plain": [
       "                          _id                           vacancy_name  \\\n",
       "0    5e723bd6924a242929711865   Software developer Python (Германия)   \n",
       "1    5e723bd6924a242929711866                     Разработчик Python   \n",
       "2    5e723bd6924a242929711867                     Разработчик Python   \n",
       "3    5e723bd6924a242929711868  Python/Django разработчик (part time)   \n",
       "4    5e723bd6924a242929711869               Backend Python Developer   \n",
       "..                        ...                                    ...   \n",
       "333  5e723cdf924a2429297119bc             Ведущий программист Python   \n",
       "334  5e723cdf924a2429297119bd                             Ростелеком   \n",
       "335  5e723cdf924a2429297119be                     Разработчик Python   \n",
       "336  5e723cdf924a2429297119bf             Ведущий разработчик Python   \n",
       "337  5e723cdf924a2429297119c0                     Разработчик Python   \n",
       "\n",
       "     salary_min  salary_max                                       vacancy_link  \n",
       "0          2500        5000        https://hh.ru/vacancy/36232273?query=Python  \n",
       "1         70000      110000        https://hh.ru/vacancy/35950905?query=Python  \n",
       "2        150000      170000        https://hh.ru/vacancy/35590347?query=Python  \n",
       "3         30000       40000        https://hh.ru/vacancy/36160045?query=Python  \n",
       "4        150000      800000        https://hh.ru/vacancy/35913318?query=Python  \n",
       "..          ...         ...                                                ...  \n",
       "333      160000      245000        https://hh.ru/vacancy/33757717?query=Python  \n",
       "334      150000      300000  https://www.superjob.ru/clients/rostelekom-241...  \n",
       "335      170000      200000  https://www.superjob.ru/vakansii/razrabotchik-...  \n",
       "336      150000      300000  https://www.superjob.ru/vakansii/veduschij-raz...  \n",
       "337      170000      200000  https://www.superjob.ru/vakansii/razrabotchik-...  \n",
       "\n",
       "[338 rows x 5 columns]"
      ]
     },
     "execution_count": 151,
     "metadata": {},
     "output_type": "execute_result"
    }
   ],
   "source": [
    "vacancylist= []\n",
    "def salary(min,max):\n",
    "    for i in collection.find(( { '$and': [ { 'salary_min': { '$gt': min } }, { 'salary_max': { '$gt': max } } ] } ) ):\n",
    "            #pprint(i)\n",
    "            vacancylist.append(i)\n",
    "                        \n",
    "salary(min= 1000, max= 2000)\n",
    "\n",
    "vacancy_dataframe =  pd.DataFrame(vacancylist)\n",
    "#pprint(vacacancylist)\n",
    "\n",
    "vacancy_dataframe"
   ]
  },
  {
   "cell_type": "markdown",
   "metadata": {},
   "source": [
    "print(type(json))   ЭТО JSON?  почему VacancyList начинается и заканчивается без [  ] в отлчие от JSON ??"
   ]
  },
  {
   "cell_type": "markdown",
   "metadata": {},
   "source": [
    "## Как из этого сделать JSON ?"
   ]
  },
  {
   "cell_type": "code",
   "execution_count": 152,
   "metadata": {},
   "outputs": [
    {
     "name": "stdout",
     "output_type": "stream",
     "text": [
      "<class 'dict'>\n"
     ]
    }
   ],
   "source": [
    "data = pd.read_csv(\"homework_3.csv\")    \n",
    "data.dropna(inplace = True) \n",
    "data_dict = data.to_dict() \n",
    "#pprint(data_dict)\n",
    "print(type(data_dict))"
   ]
  },
  {
   "cell_type": "code",
   "execution_count": 153,
   "metadata": {},
   "outputs": [
    {
     "name": "stdout",
     "output_type": "stream",
     "text": [
      "<class 'list'>\n",
      "<class 'list'>\n"
     ]
    }
   ],
   "source": [
    "print(type(json))  # \"ЭТО JSON\" ?\n",
    "print(type(vacancylist)) # 'ЭТО JSON?'"
   ]
  }
 ],
 "metadata": {
  "kernelspec": {
   "display_name": "Python 3",
   "language": "python",
   "name": "python3"
  },
  "language_info": {
   "codemirror_mode": {
    "name": "ipython",
    "version": 3
   },
   "file_extension": ".py",
   "mimetype": "text/x-python",
   "name": "python",
   "nbconvert_exporter": "python",
   "pygments_lexer": "ipython3",
   "version": "3.7.4"
  }
 },
 "nbformat": 4,
 "nbformat_minor": 4
}
