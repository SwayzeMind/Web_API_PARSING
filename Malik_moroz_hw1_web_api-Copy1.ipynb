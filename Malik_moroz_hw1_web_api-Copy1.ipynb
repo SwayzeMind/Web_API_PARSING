{
 "cells": [
  {
   "cell_type": "code",
   "execution_count": 1,
   "metadata": {},
   "outputs": [],
   "source": [
    "import requests\n",
    "import json"
   ]
  },
  {
   "cell_type": "code",
   "execution_count": 2,
   "metadata": {},
   "outputs": [],
   "source": [
    "URL_link =  'https://api.github.com'\n",
    "user_name = 'SwayzeMind'\n",
    "token = 'f1d6446c5b9908c7a796f0dd20db70e7b7803209'\n",
    "\n",
    "link_1 = f'{URL_link}/users/{user_name}/repos'\n",
    "link_2 = f'{URL_link}/users/{user_name}/repos?access_token={token}'"
   ]
  },
  {
   "cell_type": "code",
   "execution_count": 3,
   "metadata": {},
   "outputs": [],
   "source": [
    "def repos_names(data):\n",
    "    for item in data:    \n",
    "        print(f\" repo_name: {item['name']} | private: {item['private']} \")"
   ]
  },
  {
   "cell_type": "code",
   "execution_count": 4,
   "metadata": {},
   "outputs": [],
   "source": [
    "def request(link):\n",
    "    req = requests.get(link)\n",
    "    if req.ok:\n",
    "        data = req.json()\n",
    "        repos_names(data)\n",
    "    else: \n",
    "        print(f'error {req.status_code}')"
   ]
  },
  {
   "cell_type": "code",
   "execution_count": 5,
   "metadata": {},
   "outputs": [
    {
     "name": "stdout",
     "output_type": "stream",
     "text": [
      " repo_name: Data-Science-101 | private: False \n",
      " repo_name: MySQL- | private: False \n",
      " repo_name: Questions-lesson-4 | private: False \n",
      " repo_name: Web_API_PARSING | private: False \n"
     ]
    }
   ],
   "source": [
    "request(link_1)"
   ]
  },
  {
   "cell_type": "code",
   "execution_count": 6,
   "metadata": {},
   "outputs": [
    {
     "name": "stdout",
     "output_type": "stream",
     "text": [
      " repo_name: Data-Science-101 | private: False \n",
      " repo_name: MySQL- | private: False \n",
      " repo_name: Questions-lesson-4 | private: False \n",
      " repo_name: Web_API_PARSING | private: False \n"
     ]
    }
   ],
   "source": [
    "request(link_2)"
   ]
  },
  {
   "cell_type": "code",
   "execution_count": null,
   "metadata": {},
   "outputs": [],
   "source": []
  }
 ],
 "metadata": {
  "kernelspec": {
   "display_name": "Python 3",
   "language": "python",
   "name": "python3"
  },
  "language_info": {
   "codemirror_mode": {
    "name": "ipython",
    "version": 3
   },
   "file_extension": ".py",
   "mimetype": "text/x-python",
   "name": "python",
   "nbconvert_exporter": "python",
   "pygments_lexer": "ipython3",
   "version": "3.7.4"
  }
 },
 "nbformat": 4,
 "nbformat_minor": 2
}
